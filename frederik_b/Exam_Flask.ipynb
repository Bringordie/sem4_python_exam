{
 "cells": [
  {
   "cell_type": "markdown",
   "metadata": {},
   "source": [
    "# Flask end points"
   ]
  },
  {
   "cell_type": "markdown",
   "metadata": {},
   "source": [
    "Layout of how it would possibly look"
   ]
  },
  {
   "cell_type": "code",
   "execution_count": 9,
   "metadata": {
    "scrolled": false
   },
   "outputs": [],
   "source": [
    "# Enable\n",
    "from flask import Flask, jsonify, abort, request\n",
    "import sqlalchemy as s_a\n",
    "\n",
    "app = Flask(__name__)\n",
    "\n",
    "\n",
    "@app.route(\"/\")\n",
    "def hello():\n",
    "    return \"Hello World from Flask in a uWSGI Nginx Docker container with \\\n",
    "     Python 3.8 (from the example template)\"\n",
    "\n",
    "\n",
    "# @app.route(\"/api/clip/create/<str:streamer_name>/<str:stream_date>/<str:stream_time>\", methods=['GET'])\n",
    "# def create_clip():\n",
    "#     return book.Book.insert_data_from_sheet('')\n",
    "\n",
    "@app.route(\"/api/clip/create/\", methods=['GET'])\n",
    "def create_clip():\n",
    "    if not request.json or not 'book_title' in request.json:\n",
    "        abort(400)\n",
    "    print(request.json)\n",
    "    streamer_name = request.json['streamer_name']\n",
    "    stream_date = request.json['stream_date']\n",
    "    stream_time = request.json['stream_time']\n",
    "    \n",
    "    #To do selenium function\n",
    "    return \"Todo\", 200\n",
    "    \n",
    "\n",
    "# if __name__ == \"__main__\":\n",
    "#     # Only for debugging while developing\n",
    "#     #This should do so that the file can be accessed from http:/127.0.0.1:5000\n",
    "#     #app.run(debug=True) #Says already in use\n",
    "#     app.run(host=\"0.0.0.0\", debug=True, port=80)"
   ]
  }
 ],
 "metadata": {
  "kernelspec": {
   "display_name": "Python 3",
   "language": "python",
   "name": "python3"
  },
  "language_info": {
   "codemirror_mode": {
    "name": "ipython",
    "version": 3
   },
   "file_extension": ".py",
   "mimetype": "text/x-python",
   "name": "python",
   "nbconvert_exporter": "python",
   "pygments_lexer": "ipython3",
   "version": "3.7.6"
  }
 },
 "nbformat": 4,
 "nbformat_minor": 4
}
