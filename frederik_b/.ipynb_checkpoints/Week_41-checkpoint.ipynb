{
 "cells": [
  {
   "cell_type": "markdown",
   "metadata": {},
   "source": [
    "# Week 41 handin"
   ]
  },
  {
   "cell_type": "code",
   "execution_count": 8,
   "metadata": {
    "scrolled": true
   },
   "outputs": [
    {
     "name": "stdout",
     "output_type": "stream",
     "text": [
      "Videos found: 0\n"
     ]
    }
   ],
   "source": [
    "#Example 1\n",
    "#Comment, need to recheck this.\n",
    "\n",
    "import bs4\n",
    "import requests\n",
    "import re \n",
    "\n",
    "streamer_name = 'summit1g'\n",
    "video_url = 'https://www.twitch.tv/{}/videos?filter=archives&sort=time'.format(streamer_name)\n",
    "r = requests.get(video_url)\n",
    "r.raise_for_status()\n",
    "soup = bs4.BeautifulSoup(r.text, 'html.parser')\n",
    "\n",
    "#resProduct = soup.findAll(\"div\", {\"class\": \"preview-card-thumbnail__image\"})\n",
    "videos_found = soup.findAll(\"div\",{\"class\":\"tw-hover-accent-effect__children\"})\n",
    "print(\"Videos found:\",str(len(videos_found)))"
   ]
  },
  {
   "cell_type": "code",
   "execution_count": 20,
   "metadata": {},
   "outputs": [
    {
     "name": "stdout",
     "output_type": "stream",
     "text": [
      "Videos found: 0\n"
     ]
    }
   ],
   "source": [
    "        videos_found = soup.findAll(\"div\",{\"class\":\"preview-card-thumbnail__image\"})\n",
    "        print(\"Videos found:\",str(len(videos_found)))\n",
    "        for video in videos_found:\n",
    "            get_img_info = video.find('img', alt=True)\n",
    "            #video_title = video.get(\"img.title\")\n",
    "            video_title = get_img_info['alt']\n",
    "            video_date = get_img_info['title']\n",
    "            video_url = get_img_info['title']\n",
    "            print(\"Here is the title:\",video_title['alt'])"
   ]
  },
  {
   "cell_type": "code",
   "execution_count": null,
   "metadata": {},
   "outputs": [],
   "source": []
  },
  {
   "cell_type": "code",
   "execution_count": 4,
   "metadata": {},
   "outputs": [
    {
     "name": "stdout",
     "output_type": "stream",
     "text": [
      "Jan\n"
     ]
    }
   ],
   "source": [
    "import datetime\n",
    "\n",
    "month_number = \"01\"\n",
    "datetime_object = datetime.datetime.strptime(month_number, \"%m\")\n",
    "month_name = datetime_object.strftime(\"%b\")\n",
    "print(month_name)"
   ]
  },
  {
   "cell_type": "code",
   "execution_count": 13,
   "metadata": {},
   "outputs": [
    {
     "name": "stdout",
     "output_type": "stream",
     "text": [
      "05 Nov, 2020\n"
     ]
    }
   ],
   "source": [
    "import datetime\n",
    "\n",
    "test = \"05/11-2020\"\n",
    "\n",
    "stream_date_day = test[:2]\n",
    "stream_date_month = test[3:5]\n",
    "datetime_object = datetime.datetime.strptime(stream_date_month, \"%m\")\n",
    "stream_month_name = datetime_object.strftime(\"%b\")\n",
    "stream_date_year = test[6:10]\n",
    "test123 = '{} {}, {}'.format(stream_date_day, stream_month_name, stream_date_year)\n",
    "print(test123)"
   ]
  },
  {
   "cell_type": "code",
   "execution_count": 24,
   "metadata": {},
   "outputs": [
    {
     "name": "stdout",
     "output_type": "stream",
     "text": [
      "https://www.twitch.tv/videos/793115465?t=00h15m30s\n"
     ]
    }
   ],
   "source": [
    "clean_url = \"https://www.twitch.tv/videos/793115465\"\n",
    "stream_time = \"00:15:30\"\n",
    "\n",
    "stream_vod_hour = stream_time[:2]\n",
    "steam_vod_minute = stream_time[3:5]\n",
    "stream_vod_seconds = stream_time[6:9]\n",
    "new_timestamp_url = '{}?t={}h{}m{}s'.format(clean_url, stream_vod_hour, steam_vod_minute, stream_vod_seconds)\n",
    "print(new_timestamp_url)"
   ]
  },
  {
   "cell_type": "code",
   "execution_count": 2,
   "metadata": {},
   "outputs": [
    {
     "ename": "error",
     "evalue": "b'[AUTHENTICATIONFAILED] Invalid credentials (Failure)'",
     "output_type": "error",
     "traceback": [
      "\u001b[0;31m---------------------------------------------------------------------------\u001b[0m",
      "\u001b[0;31merror\u001b[0m                                     Traceback (most recent call last)",
      "\u001b[0;32m<ipython-input-2-f084b3f0a2f2>\u001b[0m in \u001b[0;36m<module>\u001b[0;34m\u001b[0m\n\u001b[1;32m     30\u001b[0m \u001b[0;34m\u001b[0m\u001b[0m\n\u001b[1;32m     31\u001b[0m \u001b[0;31m# logging the user in\u001b[0m\u001b[0;34m\u001b[0m\u001b[0;34m\u001b[0m\u001b[0;34m\u001b[0m\u001b[0m\n\u001b[0;32m---> 32\u001b[0;31m \u001b[0mcon\u001b[0m\u001b[0;34m.\u001b[0m\u001b[0mlogin\u001b[0m\u001b[0;34m(\u001b[0m\u001b[0muser\u001b[0m\u001b[0;34m,\u001b[0m \u001b[0mpassword\u001b[0m\u001b[0;34m)\u001b[0m\u001b[0;34m\u001b[0m\u001b[0;34m\u001b[0m\u001b[0m\n\u001b[0m\u001b[1;32m     33\u001b[0m \u001b[0;34m\u001b[0m\u001b[0m\n\u001b[1;32m     34\u001b[0m \u001b[0;31m# calling function to check for email under this label\u001b[0m\u001b[0;34m\u001b[0m\u001b[0;34m\u001b[0m\u001b[0;34m\u001b[0m\u001b[0m\n",
      "\u001b[0;32m/opt/conda/lib/python3.7/imaplib.py\u001b[0m in \u001b[0;36mlogin\u001b[0;34m(self, user, password)\u001b[0m\n\u001b[1;32m    596\u001b[0m         \u001b[0mtyp\u001b[0m\u001b[0;34m,\u001b[0m \u001b[0mdat\u001b[0m \u001b[0;34m=\u001b[0m \u001b[0mself\u001b[0m\u001b[0;34m.\u001b[0m\u001b[0m_simple_command\u001b[0m\u001b[0;34m(\u001b[0m\u001b[0;34m'LOGIN'\u001b[0m\u001b[0;34m,\u001b[0m \u001b[0muser\u001b[0m\u001b[0;34m,\u001b[0m \u001b[0mself\u001b[0m\u001b[0;34m.\u001b[0m\u001b[0m_quote\u001b[0m\u001b[0;34m(\u001b[0m\u001b[0mpassword\u001b[0m\u001b[0;34m)\u001b[0m\u001b[0;34m)\u001b[0m\u001b[0;34m\u001b[0m\u001b[0;34m\u001b[0m\u001b[0m\n\u001b[1;32m    597\u001b[0m         \u001b[0;32mif\u001b[0m \u001b[0mtyp\u001b[0m \u001b[0;34m!=\u001b[0m \u001b[0;34m'OK'\u001b[0m\u001b[0;34m:\u001b[0m\u001b[0;34m\u001b[0m\u001b[0;34m\u001b[0m\u001b[0m\n\u001b[0;32m--> 598\u001b[0;31m             \u001b[0;32mraise\u001b[0m \u001b[0mself\u001b[0m\u001b[0;34m.\u001b[0m\u001b[0merror\u001b[0m\u001b[0;34m(\u001b[0m\u001b[0mdat\u001b[0m\u001b[0;34m[\u001b[0m\u001b[0;34m-\u001b[0m\u001b[0;36m1\u001b[0m\u001b[0;34m]\u001b[0m\u001b[0;34m)\u001b[0m\u001b[0;34m\u001b[0m\u001b[0;34m\u001b[0m\u001b[0m\n\u001b[0m\u001b[1;32m    599\u001b[0m         \u001b[0mself\u001b[0m\u001b[0;34m.\u001b[0m\u001b[0mstate\u001b[0m \u001b[0;34m=\u001b[0m \u001b[0;34m'AUTH'\u001b[0m\u001b[0;34m\u001b[0m\u001b[0;34m\u001b[0m\u001b[0m\n\u001b[1;32m    600\u001b[0m         \u001b[0;32mreturn\u001b[0m \u001b[0mtyp\u001b[0m\u001b[0;34m,\u001b[0m \u001b[0mdat\u001b[0m\u001b[0;34m\u001b[0m\u001b[0;34m\u001b[0m\u001b[0m\n",
      "\u001b[0;31merror\u001b[0m: b'[AUTHENTICATIONFAILED] Invalid credentials (Failure)'"
     ]
    }
   ],
   "source": [
    "import imaplib, email \n",
    "  \n",
    "user = 'sem4python2020@gmail.com'\n",
    "password = 'sem4pythonpasswordforGmail.'\n",
    "imap_url = 'imap.gmail.com'\n",
    "  \n",
    "# Function to get email content part i.e its body part \n",
    "def get_body(msg): \n",
    "    if msg.is_multipart(): \n",
    "        return get_body(msg.get_payload(0)) \n",
    "    else: \n",
    "        return msg.get_payload(None, True) \n",
    "  \n",
    "# Function to search for a key value pair  \n",
    "def search(key, value, con):  \n",
    "    result, data = con.search(None, key, '\"{}\"'.format(value)) \n",
    "    return data \n",
    "  \n",
    "# Function to get the list of emails under this label \n",
    "def get_emails(result_bytes): \n",
    "    msgs = [] # all the email data are pushed inside an array \n",
    "    for num in result_bytes[0].split(): \n",
    "        typ, data = con.fetch(num, '(RFC822)') \n",
    "        msgs.append(data) \n",
    "  \n",
    "    return msgs \n",
    "  \n",
    "# this is done to make SSL connnection with GMAIL \n",
    "con = imaplib.IMAP4_SSL(imap_url)  \n",
    "  \n",
    "# logging the user in \n",
    "con.login(user, password)  \n",
    "  \n",
    "# calling function to check for email under this label \n",
    "con.select('Inbox')  \n",
    "  \n",
    " # fetching emails from this user \"tu**h*****1@gmail.com\" \n",
    "msgs = get_emails(search('FROM', 'MY_ANOTHER_GMAIL_ADDRESS', con)) \n",
    "  \n",
    "# Uncomment this to see what actually comes as data  \n",
    "print(msgs)  \n",
    "  \n",
    "  \n",
    "# Finding the required content from our msgs \n",
    "# User can make custom changes in this part to \n",
    "# fetch the required content he / she needs \n",
    "  \n",
    "# printing them by the order they are displayed in your gmail  \n",
    "for msg in msgs[::-1]:  \n",
    "    for sent in msg: \n",
    "        if type(sent) is tuple:  \n",
    "  \n",
    "            # encoding set as utf-8 \n",
    "            content = str(sent[1], 'utf-8')  \n",
    "            data = str(content) \n",
    "  \n",
    "            # Handling errors related to unicodenecode \n",
    "            try:  \n",
    "                indexstart = data.find(\"ltr\") \n",
    "                data2 = data[indexstart + 5: len(data)] \n",
    "                indexend = data2.find(\"</div>\") \n",
    "  \n",
    "                # printtng the required content which we need \n",
    "                # to extract from our email i.e our body \n",
    "                print(data2[0: indexend]) \n",
    "  \n",
    "            except UnicodeEncodeError as e: \n",
    "                pass"
   ]
  },
  {
   "cell_type": "code",
   "execution_count": 9,
   "metadata": {},
   "outputs": [
    {
     "name": "stdout",
     "output_type": "stream",
     "text": [
      "Error name 'SMTP_SERVER' is not defined\n"
     ]
    }
   ],
   "source": [
    "import smtplib\n",
    "import time\n",
    "import imaplib\n",
    "import email\n",
    "\n",
    "# -------------------------------------------------\n",
    "#\n",
    "# Utility to read email from Gmail Using Python\n",
    "#\n",
    "# ------------------------------------------------\n",
    "\n",
    "def read_email_from_gmail():\n",
    "    try:\n",
    "        mail = imaplib.IMAP4_SSL('imap.gmail.com')\n",
    "        mail.login('sem4python2020@gmail.com','sem4pythonpasswordforGmail.')\n",
    "        mail.select('inbox')\n",
    "\n",
    "        type, data = mail.search(None, 'ALL')\n",
    "        mail_ids = data[0]\n",
    "\n",
    "        id_list = mail_ids.split()   \n",
    "        first_email_id = int(id_list[0])\n",
    "        latest_email_id = int(id_list[-1])\n",
    "\n",
    "\n",
    "        for i in range(latest_email_id,first_email_id, -1):\n",
    "            typ, data = mail.fetch(i, '(RFC822)' )\n",
    "\n",
    "            for response_part in data:\n",
    "                if isinstance(response_part, tuple):\n",
    "                    msg = email.message_from_string(response_part[1])\n",
    "                    email_subject = msg['subject']\n",
    "                    email_from = msg['from']\n",
    "                    print('From : ' + email_from + '\\n')\n",
    "                    print('Subject : ' + email_subject + '\\n')\n",
    "\n",
    "    except Exception as e:\n",
    "        print(\"Error\", e)\n",
    "\n",
    "read_email_from_gmail()"
   ]
  }
 ],
 "metadata": {
  "kernelspec": {
   "display_name": "Python 3",
   "language": "python",
   "name": "python3"
  },
  "language_info": {
   "codemirror_mode": {
    "name": "ipython",
    "version": 3
   },
   "file_extension": ".py",
   "mimetype": "text/x-python",
   "name": "python",
   "nbconvert_exporter": "python",
   "pygments_lexer": "ipython3",
   "version": "3.7.6"
  }
 },
 "nbformat": 4,
 "nbformat_minor": 4
}
